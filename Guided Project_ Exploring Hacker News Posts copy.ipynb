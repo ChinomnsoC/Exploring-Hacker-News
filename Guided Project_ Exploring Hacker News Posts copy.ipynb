{
 "cells": [
  {
   "cell_type": "markdown",
   "metadata": {
    "collapsed": true
   },
   "source": [
    "# Analysis of Hacker News (HN) \n",
    "## 2nd Guided Project\n",
    "In this project, I'll work with a data set of submissions to popular technology site Hacker News. This is m y second guided project on DataQuest, but it is my third in real life.\n",
    "\n",
    "Hacker News is a site started by the startup incubator Y Combinator, where user-submitted stories (known as \"posts\") are voted and commented upon, similar to reddit. \n",
    "\n",
    "Below are descriptions of the columns:\n",
    "\n",
    "* id: The unique identifier from Hacker News for the post\n",
    "* title: The title of the post\n",
    "* url: The URL that the posts links to, if it the post has a URL\n",
    "* num_points: The number of points the post acquired, calculated as the total number of upvotes minus the total number of downvotes\n",
    "* num_comments: The number of comments that were made on the post\n",
    "* author: The username of the person who submitted the post\n",
    "* created_at: The date and time at which the post was submitted\n",
    "\n",
    "In this project,I want to determine if certain titles receive more comments on an average and if posts created at a certain time  receive more comments on an average"
   ]
  },
  {
   "cell_type": "code",
   "execution_count": 1,
   "metadata": {
    "collapsed": true
   },
   "outputs": [],
   "source": [
    "from csv import reader\n",
    "opened_file = open(\"hacker_news.csv\")\n",
    "read_file = reader(opened_file)\n",
    "hn = list(read_file)\n",
    "hn_header = hn[0]\n",
    "hn = hn[1:]"
   ]
  },
  {
   "cell_type": "code",
   "execution_count": 2,
   "metadata": {
    "collapsed": false
   },
   "outputs": [
    {
     "name": "stdout",
     "output_type": "stream",
     "text": [
      "['id', 'title', 'url', 'num_points', 'num_comments', 'author', 'created_at']\n",
      "\n",
      "\n",
      "['12224879', 'Interactive Dynamic Video', 'http://www.interactivedynamicvideo.com/', '386', '52', 'ne0phyte', '8/4/2016 11:52']\n",
      "\n",
      "\n",
      "['10975351', 'How to Use Open Source and Shut the Fuck Up at the Same Time', 'http://hueniverse.com/2016/01/26/how-to-use-open-source-and-shut-the-fuck-up-at-the-same-time/', '39', '10', 'josep2', '1/26/2016 19:30']\n",
      "\n",
      "\n",
      "['11964716', \"Florida DJs May Face Felony for April Fools' Water Joke\", 'http://www.thewire.com/entertainment/2013/04/florida-djs-april-fools-water-joke/63798/', '2', '1', 'vezycash', '6/23/2016 22:20']\n",
      "\n",
      "\n",
      "['11919867', 'Technology ventures: From Idea to Enterprise', 'https://www.amazon.com/Technology-Ventures-Enterprise-Thomas-Byers/dp/0073523429', '3', '1', 'hswarna', '6/17/2016 0:01']\n",
      "\n",
      "\n",
      "Number of rows: 20100\n",
      "Number of columns: 7\n"
     ]
    }
   ],
   "source": [
    "def explore_data(dataset, start, end, rows_and_columns=False):\n",
    "    dataset_slice = dataset[start:end]    \n",
    "    for row in dataset_slice:\n",
    "        print(row)\n",
    "        print('\\n') # adds a new (empty) line after each row\n",
    "\n",
    "    if rows_and_columns:\n",
    "        print('Number of rows:', len(dataset))\n",
    "        print('Number of columns:', len(dataset[0]))\n",
    "print(hn_header)\n",
    "print('\\n')\n",
    "explore_data(hn, 0, 4, True)"
   ]
  },
  {
   "cell_type": "code",
   "execution_count": 3,
   "metadata": {
    "collapsed": false
   },
   "outputs": [
    {
     "name": "stdout",
     "output_type": "stream",
     "text": [
      "['12224879', 'Interactive Dynamic Video', 'http://www.interactivedynamicvideo.com/', '386', '52', 'ne0phyte', '8/4/2016 11:52']\n",
      "\n",
      "\n",
      "['10975351', 'How to Use Open Source and Shut the Fuck Up at the Same Time', 'http://hueniverse.com/2016/01/26/how-to-use-open-source-and-shut-the-fuck-up-at-the-same-time/', '39', '10', 'josep2', '1/26/2016 19:30']\n",
      "\n",
      "\n",
      "['11964716', \"Florida DJs May Face Felony for April Fools' Water Joke\", 'http://www.thewire.com/entertainment/2013/04/florida-djs-april-fools-water-joke/63798/', '2', '1', 'vezycash', '6/23/2016 22:20']\n",
      "\n",
      "\n",
      "['11919867', 'Technology ventures: From Idea to Enterprise', 'https://www.amazon.com/Technology-Ventures-Enterprise-Thomas-Byers/dp/0073523429', '3', '1', 'hswarna', '6/17/2016 0:01']\n",
      "\n",
      "\n",
      "['10301696', 'Note by Note: The Making of Steinway L1037 (2007)', 'http://www.nytimes.com/2007/11/07/movies/07stein.html?_r=0', '8', '2', 'walterbell', '9/30/2015 4:12']\n",
      "\n",
      "\n",
      "Number of rows: 20100\n",
      "Number of columns: 7\n"
     ]
    }
   ],
   "source": [
    "explore_data(hn, 0, 5, True)"
   ]
  },
  {
   "cell_type": "code",
   "execution_count": 4,
   "metadata": {
    "collapsed": false
   },
   "outputs": [
    {
     "name": "stdout",
     "output_type": "stream",
     "text": [
      "1744\n",
      "1162\n",
      "17194\n"
     ]
    }
   ],
   "source": [
    "ask_posts = []\n",
    "show_posts = []\n",
    "other_posts = []\n",
    "\n",
    "for row in hn:\n",
    "    title = row[1]\n",
    "    if title.lower().startswith('ask hn'):\n",
    "        ask_posts.append(row)\n",
    "    elif title.lower().startswith('show hn'):\n",
    "        show_posts.append(row)\n",
    "    else:\n",
    "        other_posts.append(row)\n",
    "\n",
    "print(len(ask_posts))\n",
    "print(len(show_posts))\n",
    "print(len(other_posts))"
   ]
  },
  {
   "cell_type": "code",
   "execution_count": 5,
   "metadata": {
    "collapsed": false
   },
   "outputs": [
    {
     "name": "stdout",
     "output_type": "stream",
     "text": [
      "The First Five Rows of ask_posts:\n",
      "['id', 'title', 'url', 'num_points', 'num_comments', 'author', 'created_at']\n",
      "\n",
      "\n",
      "[['12296411', 'Ask HN: How to improve my personal website?', '', '2', '6', 'ahmedbaracat', '8/16/2016 9:55'], ['10610020', 'Ask HN: Am I the only one outraged by Twitter shutting down share counts?', '', '28', '29', 'tkfx', '11/22/2015 13:43'], ['11610310', 'Ask HN: Aby recent changes to CSS that broke mobile?', '', '1', '1', 'polskibus', '5/2/2016 10:14'], ['12210105', 'Ask HN: Looking for Employee #3 How do I do it?', '', '1', '3', 'sph130', '8/2/2016 14:20']]\n",
      "\n",
      "\n",
      "The First Five Rows of show_posts:\n",
      "[['10627194', 'Show HN: Wio Link  ESP8266 Based Web of Things Hardware Development Platform', 'https://iot.seeed.cc', '26', '22', 'kfihihc', '11/25/2015 14:03'], ['10646440', 'Show HN: Something pointless I made', 'http://dn.ht/picklecat/', '747', '102', 'dhotson', '11/29/2015 22:46'], ['11590768', 'Show HN: Shanhu.io, a programming playground powered by e8vm', 'https://shanhu.io', '1', '1', 'h8liu', '4/28/2016 18:05'], ['12178806', 'Show HN: Webscope  Easy way for web developers to communicate with Clients', 'http://webscopeapp.com', '3', '3', 'fastbrick', '7/28/2016 7:11']]\n"
     ]
    }
   ],
   "source": [
    "print(\"The First Five Rows of ask_posts:\")\n",
    "print(hn_header)\n",
    "print('\\n')\n",
    "print(ask_posts[0:4])\n",
    "print('\\n')\n",
    "print(\"The First Five Rows of show_posts:\")\n",
    "print(show_posts[0:4])"
   ]
  },
  {
   "cell_type": "code",
   "execution_count": 6,
   "metadata": {
    "collapsed": false
   },
   "outputs": [
    {
     "name": "stdout",
     "output_type": "stream",
     "text": [
      "Ask_post Comment Summary :\n",
      "Number of comment enteries: 1744\n",
      "Sum of Comments: 24483\n",
      "Average Number of Comments: 14.038417431192661\n"
     ]
    }
   ],
   "source": [
    "lst = []\n",
    "# This is the list that shows all num ber of comments for ask_posts\n",
    "for row in ask_posts:\n",
    "    num = int(row[4])\n",
    "    lst.append(num)\n",
    "print(\"Ask_post Comment Summary :\")\n",
    "print(\"Number of comment enteries:\", len(lst))\n",
    "print(\"Sum of Comments:\", sum(lst))\n",
    "avg_ask_comments = sum(lst) / len(ask_posts)\n",
    "print(\"Average Number of Comments:\", avg_ask_comments)"
   ]
  },
  {
   "cell_type": "code",
   "execution_count": 7,
   "metadata": {
    "collapsed": false
   },
   "outputs": [
    {
     "name": "stdout",
     "output_type": "stream",
     "text": [
      "Show_post Comment Summary:\n",
      "Number of comment enteries: 1162\n",
      "Sum of Comments: 11988\n",
      "Average Number of Comments: 10.31669535283993\n"
     ]
    }
   ],
   "source": [
    "slst = []\n",
    "# This is the list that shows all num ber of comments for show_posts\n",
    "for row in show_posts:\n",
    "    num = int(row[4])\n",
    "    slst.append(num)\n",
    "print(\"Show_post Comment Summary:\")\n",
    "print(\"Number of comment enteries:\", len(slst))\n",
    "print(\"Sum of Comments:\", sum(slst))\n",
    "avg_show_comments = sum(slst) / len(show_posts)\n",
    "print(\"Average Number of Comments:\", avg_show_comments)"
   ]
  },
  {
   "cell_type": "markdown",
   "metadata": {},
   "source": [
    "## So Far.....\n",
    "I wrote a function in code cell 2 to explore the dataset. Next, I also explored the entries that matter; `ask_posts` and `show_posts`. In code cell 6 and 7, I tried to get a summary on the Comments for my concerned enteries.\n",
    "### Ask Posts:\n",
    "* All posts had comments (1744)\n",
    "* Sum of Comments: 24483\n",
    "* Average Number of Comments: 10.31669535283993\n",
    "\n",
    "### Show Posts:\n",
    "* All posts had comments (1162)\n",
    "* Sum of Comments: 11988\n",
    "* Average Number of Comments: 14.038417431192661\n"
   ]
  },
  {
   "cell_type": "markdown",
   "metadata": {},
   "source": [
    "# Next...\n",
    "From my work above, on average, ask posts received more comments than show posts. Next, we'll determine if ask posts created at a certain time are more likely to attract comments. We'll use the following steps to perform this analysis:\n",
    "\n",
    "* Calculate the amount of ask posts created in each hour of the day, along with the number of comments received.\n",
    "* Calculate the average number of comments ask posts receive by hour created.\n"
   ]
  },
  {
   "cell_type": "markdown",
   "metadata": {},
   "source": [
    "## Amount of `ask_posts` Created in Each Hour of the Day, Along with the Number of Comments Received."
   ]
  },
  {
   "cell_type": "code",
   "execution_count": 8,
   "metadata": {
    "collapsed": true
   },
   "outputs": [],
   "source": [
    "import datetime as dt"
   ]
  },
  {
   "cell_type": "code",
   "execution_count": 9,
   "metadata": {
    "collapsed": false
   },
   "outputs": [
    {
     "name": "stdout",
     "output_type": "stream",
     "text": [
      "[['8/16/2016 9:55', 6], ['11/22/2015 13:43', 29], ['5/2/2016 10:14', 1], ['8/2/2016 14:20', 3]]\n"
     ]
    }
   ],
   "source": [
    "result_list = []\n",
    "for row in ask_posts:\n",
    "    created_at = row[6]\n",
    "    num = int(row[4])\n",
    "    \n",
    "    result_list.append([created_at, num])\n",
    "print(result_list[:4])"
   ]
  },
  {
   "cell_type": "code",
   "execution_count": 10,
   "metadata": {
    "collapsed": false
   },
   "outputs": [],
   "source": [
    "counts_by_hour = {}\n",
    "comments_by_hour = {}\n",
    "\n",
    "for row in result_list:\n",
    "    date = row[0]\n",
    "    comments = row[1]\n",
    "    dt_object = dt.datetime.strptime(date, \"%m/%d/%Y %H:%M\")\n",
    "    hour = dt_object.hour\n",
    "        \n",
    "    if hour not in counts_by_hour:\n",
    "        counts_by_hour[hour] = 1\n",
    "        comments_by_hour[hour] = comments\n",
    "            \n",
    "    else:\n",
    "        counts_by_hour[hour] += 1\n",
    "        comments_by_hour[hour] += comments\n",
    "    "
   ]
  },
  {
   "cell_type": "code",
   "execution_count": 11,
   "metadata": {
    "collapsed": false,
    "scrolled": true
   },
   "outputs": [
    {
     "name": "stdout",
     "output_type": "stream",
     "text": [
      "Number of ask_posts created by Hour:\n",
      "{0: 55, 1: 60, 2: 58, 3: 54, 4: 47, 5: 46, 6: 44, 7: 34, 8: 48, 9: 45, 10: 59, 11: 58, 12: 73, 13: 85, 14: 107, 15: 116, 16: 108, 17: 100, 18: 109, 19: 110, 20: 80, 21: 109, 22: 71, 23: 68}\n",
      "\n",
      "\n",
      "Comments by Hour:\n",
      "{0: 447, 1: 683, 2: 1381, 3: 421, 4: 337, 5: 464, 6: 397, 7: 267, 8: 492, 9: 251, 10: 793, 11: 641, 12: 687, 13: 1253, 14: 1416, 15: 4477, 16: 1814, 17: 1146, 18: 1439, 19: 1188, 20: 1722, 21: 1745, 22: 479, 23: 543}\n"
     ]
    }
   ],
   "source": [
    "print(\"Number of ask_posts created by Hour:\")\n",
    "print(counts_by_hour)\n",
    "print('\\n')\n",
    "print(\"Comments by Hour:\")\n",
    "print(comments_by_hour)"
   ]
  },
  {
   "cell_type": "markdown",
   "metadata": {},
   "source": [
    "## Average Number of Comments `ask_posts` Received by Hour Created"
   ]
  },
  {
   "cell_type": "code",
   "execution_count": 12,
   "metadata": {
    "collapsed": false
   },
   "outputs": [
    {
     "name": "stdout",
     "output_type": "stream",
     "text": [
      "Average comments per hour on Ask Hn posts: \n",
      " [[0, 8.13], [1, 11.38], [2, 23.81], [3, 7.8], [4, 7.17], [5, 10.09], [6, 9.02], [7, 7.85], [8, 10.25], [9, 5.58], [10, 13.44], [11, 11.05], [12, 9.41], [13, 14.74], [14, 13.23], [15, 38.59], [16, 16.8], [17, 11.46], [18, 13.2], [19, 10.8], [20, 21.52], [21, 16.01], [22, 6.75], [23, 7.99]]\n"
     ]
    }
   ],
   "source": [
    "avg_by_hour = []\n",
    "\n",
    "for hour in comments_by_hour:\n",
    "    avg_by_hour.append([hour, round((comments_by_hour[hour] / counts_by_hour[hour]), 2)])\n",
    "    \n",
    "print(\"Average comments per hour on Ask Hn posts:\", '\\n', avg_by_hour)"
   ]
  },
  {
   "cell_type": "code",
   "execution_count": 13,
   "metadata": {
    "collapsed": false
   },
   "outputs": [
    {
     "name": "stdout",
     "output_type": "stream",
     "text": [
      "[[8.13, '0'], [11.38, '1'], [23.81, '2'], [7.8, '3'], [7.17, '4'], [10.09, '5'], [9.02, '6'], [7.85, '7'], [10.25, '8'], [5.58, '9'], [13.44, '10'], [11.05, '11'], [9.41, '12'], [14.74, '13'], [13.23, '14'], [38.59, '15'], [16.8, '16'], [11.46, '17'], [13.2, '18'], [10.8, '19'], [21.52, '20'], [16.01, '21'], [6.75, '22'], [7.99, '23']]\n"
     ]
    }
   ],
   "source": [
    "swap_avg_by_hour = []\n",
    "\n",
    "for row in avg_by_hour:\n",
    "    hour = str(row[0])\n",
    "    avg_comment = row[1]\n",
    "    swap_avg_by_hour.append([avg_comment, hour])\n",
    "    \n",
    "print(swap_avg_by_hour)\n",
    "\n"
   ]
  },
  {
   "cell_type": "code",
   "execution_count": 14,
   "metadata": {
    "collapsed": false,
    "scrolled": true
   },
   "outputs": [
    {
     "name": "stdout",
     "output_type": "stream",
     "text": [
      "[[38.59, '15'], [23.81, '2'], [21.52, '20'], [16.8, '16'], [16.01, '21'], [14.74, '13'], [13.44, '10'], [13.23, '14'], [13.2, '18'], [11.46, '17'], [11.38, '1'], [11.05, '11'], [10.8, '19'], [10.25, '8'], [10.09, '5'], [9.41, '12'], [9.02, '6'], [8.13, '0'], [7.99, '23'], [7.85, '7'], [7.8, '3'], [7.17, '4'], [6.75, '22'], [5.58, '9']]\n",
      "\n",
      "\n",
      "Top 5 Hours for Ask Posts Comments:\n",
      "15:00 : 38.59 average comments per post \n",
      "02:00 : 23.81 average comments per post \n",
      "20:00 : 21.52 average comments per post \n",
      "16:00 : 16.8 average comments per post \n",
      "21:00 : 16.01 average comments per post \n"
     ]
    }
   ],
   "source": [
    "sorted_swap = sorted(swap_avg_by_hour, reverse=True)\n",
    "\n",
    "print(sorted_swap)\n",
    "print('\\n')\n",
    "print(\"Top 5 Hours for Ask Posts Comments:\")\n",
    "\n",
    "for row in sorted_swap[:5]:\n",
    "    top_hour = dt.datetime.strptime(row[1], \"%H\")\n",
    "    hour_fmt = top_hour.strftime(\"%H:%M\")\n",
    "    print(\"{a} : {b} average comments per post \".format(a=hour_fmt,b=row[0]))\n",
    "\n"
   ]
  },
  {
   "cell_type": "markdown",
   "metadata": {},
   "source": [
    "### Time Zone: Converting to West-African Time Standard by adding 5 hours"
   ]
  },
  {
   "cell_type": "code",
   "execution_count": 15,
   "metadata": {
    "collapsed": false
   },
   "outputs": [
    {
     "name": "stdout",
     "output_type": "stream",
     "text": [
      "Top 5 Hours for Ask Posts Comments(WAT, Nigeria):\n",
      "20:00 38.59 average comments per post\n",
      "07:00 23.81 average comments per post\n",
      "01:00 21.52 average comments per post\n",
      "21:00 16.8 average comments per post\n",
      "02:00 16.01 average comments per post\n"
     ]
    }
   ],
   "source": [
    "print(\"Top 5 Hours for Ask Posts Comments(WAT, Nigeria):\")\n",
    "hour_format = \"%H\"\n",
    "for row in sorted_swap[:5]:\n",
    "    hour = row[1]\n",
    "    # The original time zone was Eastern Standard.\n",
    "    # Here I am converting to West-African Time Standard by adding 5 hours.\n",
    "    convert_to_wat = dt.datetime.strptime(hour, hour_format)\n",
    "    wat = convert_to_wat + dt.timedelta(hours=5)\n",
    "    wat = wat.strftime(\"%H:%M\")     \n",
    "   \n",
    "    avg_comments = round(row[0],2)\n",
    "    print(\"{0} {1} average comments per post\".format(wat, row[0]))"
   ]
  },
  {
   "cell_type": "markdown",
   "metadata": {},
   "source": [
    "# My Conclusions and Findings\n",
    "From the analysis, the hour that receives the most comments is 15:00 hrs EST (20:00hrs WAT). There are many factors that could affect this, but whichever it is, it is important that the platform owners maximize the hour "
   ]
  }
 ],
 "metadata": {
  "kernelspec": {
   "display_name": "Python 3",
   "language": "python",
   "name": "python3"
  },
  "language_info": {
   "codemirror_mode": {
    "name": "ipython",
    "version": 3
   },
   "file_extension": ".py",
   "mimetype": "text/x-python",
   "name": "python",
   "nbconvert_exporter": "python",
   "pygments_lexer": "ipython3",
   "version": "3.4.3"
  }
 },
 "nbformat": 4,
 "nbformat_minor": 2
}
